{
 "cells": [
  {
   "cell_type": "code",
   "execution_count": 2,
   "id": "448adf80",
   "metadata": {},
   "outputs": [
    {
     "name": "stdout",
     "output_type": "stream",
     "text": [
      "(23705, 2)\n",
      "   age  genre\n",
      "0    1      0\n",
      "1    1      0\n",
      "2    1      0\n",
      "3    1      0\n",
      "4    1      0\n",
      "Index(['age', 'genre'], dtype='object')\n",
      "age      int64\n",
      "genre    int64\n",
      "dtype: object\n",
      "<class 'pandas.core.frame.DataFrame'>\n",
      "RangeIndex: 23705 entries, 0 to 23704\n",
      "Data columns (total 2 columns):\n",
      " #   Column  Non-Null Count  Dtype\n",
      "---  ------  --------------  -----\n",
      " 0   age     23705 non-null  int64\n",
      " 1   genre   23705 non-null  int64\n",
      "dtypes: int64(2)\n",
      "memory usage: 370.5 KB\n",
      "None\n"
     ]
    },
    {
     "data": {
      "image/png": "[encoded data removed]",
      "text/plain": [
       "<Figure size 432x288 with 1 Axes>"
      ]
     },
     "metadata": {
      "needs_background": "light"
     },
     "output_type": "display_data"
    },
    {
     "data": {
      "text/plain": [
       "Text(0, 0.5, 'Genre Distribution')"
      ]
     },
     "execution_count": 2,
     "metadata": {},
     "output_type": "execute_result"
    },
    {
     "data": {
      "image/png": "[encoded data removed]",
      "text/plain": [
       "<Figure size 432x288 with 1 Axes>"
      ]
     },
     "metadata": {
      "needs_background": "light"
     },
     "output_type": "display_data"
    }
   ],
   "source": [
    "import pandas as pd\n",
    "import matplotlib.pyplot as plt\n",
    "\n",
    "data=pd.read_csv('age_gender.csv',sep=\";\")\n",
    "print(data.shape)\n",
    "print( data.head())\n",
    "print( data.columns )\n",
    "print(data.dtypes )\n",
    "print(data.info() )\n",
    "\n",
    "plt.hist(data.age)\n",
    "plt.xlabel('Age')\n",
    "plt.ylabel('Age Distribution')\n",
    "plt.show()\n",
    "\n",
    "plt.hist(data.genre)\n",
    "plt.xlabel('Genre')\n",
    "plt.ylabel('Genre Distribution')"
   ]
  },
  {
   "cell_type": "code",
   "execution_count": null,
   "id": "eaaf8f20",
   "metadata": {},
   "outputs": [],
   "source": []
  }
 ],
 "metadata": {
  "kernelspec": {
   "display_name": "Python 3 (ipykernel)",
   "language": "python",
   "name": "python3"
  },
  "language_info": {
   "codemirror_mode": {
    "name": "ipython",
    "version": 3
   },
   "file_extension": ".py",
   "mimetype": "text/x-python",
   "name": "python",
   "nbconvert_exporter": "python",
   "pygments_lexer": "ipython3",
   "version": "3.9.7"
  }
 },
 "nbformat": 4,
 "nbformat_minor": 5
}
